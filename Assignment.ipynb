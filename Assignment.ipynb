{
 "cells": [
  {
   "cell_type": "markdown",
   "id": "25c74066-1c6b-4342-bf45-08251865a69f",
   "metadata": {},
   "source": [
    "# Assignment"
   ]
  },
  {
   "cell_type": "markdown",
   "id": "41e350d1-00ea-400b-95d0-53d42f02966b",
   "metadata": {},
   "source": [
    "### 1) What are the types of Applications?\n",
    "* Web Development\n",
    "* Machine Learning and Artificial Intelligence\n",
    "* Data Science\n",
    "* Game Development\n",
    "* Software Development\n",
    "* Business Applications"
   ]
  },
  {
   "cell_type": "markdown",
   "id": "8090c8a4-94bc-4533-b203-d234465f510f",
   "metadata": {},
   "source": [
    "### 2) What is programing?\n",
    "* Programming is a sequence of instruction given to any device through a programming language to follow a certain task, it consisit of step by step procedure and algorithm to follow a path."
   ]
  },
  {
   "cell_type": "markdown",
   "id": "67a586ea-36e6-4892-bf86-7f53a1c8846f",
   "metadata": {},
   "source": [
    "### 3) What is Python?\n",
    "* Python is a computer programming language often used to build websites and software, automate tasks, and analyze data."
   ]
  },
  {
   "cell_type": "markdown",
   "id": "abf54a89-be5c-4381-b4c8-d1b9c6ef19b9",
   "metadata": {},
   "source": [
    "### 4) Write a Python program to check if a number is positive, negative or zero."
   ]
  },
  {
   "cell_type": "code",
   "execution_count": null,
   "id": "de8865ea-7fe9-4746-9add-8eff0c169e8c",
   "metadata": {},
   "outputs": [],
   "source": [
    "x=float(input(\"Write a number: \"))\n",
    "\n",
    "if (x>0):\n",
    "    print(\"Positive\")\n",
    "elif (x<0):\n",
    "    print(\"Negative\")\n",
    "elif (x==0):\n",
    "    print(\"Zero\")\n",
    "else:\n",
    "    print(\"Write correct value\")"
   ]
  },
  {
   "cell_type": "markdown",
   "id": "c0c0cc81-50f0-4c8a-b50c-477ac8fcf834",
   "metadata": {},
   "source": [
    "### 5) Write a Python program to get the Factorial number of given numbers."
   ]
  },
  {
   "cell_type": "code",
   "execution_count": null,
   "id": "11ea43c5-90e5-44d7-9a77-63e6d84f72b3",
   "metadata": {},
   "outputs": [],
   "source": [
    "a = int(input(\"Write a number: \"))\n",
    "num = 1\n",
    "\n",
    "for i in range(1, a+1):\n",
    "    num = num*i\n",
    "\n",
    "print(num)"
   ]
  },
  {
   "cell_type": "markdown",
   "id": "55089eaf-73b4-43b3-a654-694a98f3d695",
   "metadata": {},
   "source": [
    "### 6) Write a Python program to get the Fibonacci series of given range."
   ]
  },
  {
   "cell_type": "code",
   "execution_count": null,
   "id": "04bb0152-a6f7-47b5-8b6e-7756c3e4d35b",
   "metadata": {},
   "outputs": [],
   "source": []
  },
  {
   "cell_type": "markdown",
   "id": "f3313736-c48e-4111-b20f-db8b01ae93ae",
   "metadata": {},
   "source": [
    "### 7) How memory is managed in Python?\n",
    "* Memory is managed in Python by one of two ways: dynamic allocation or static allocation. Dynamic allocation occurs as the program is running. This means that as the program operates, it can dynamically determine where to allocate memory while reusing and releasing it. Static memory allocation happens before the running of a program, predetermining the amount and distribution of the memory, and without the ability to reuse memory."
   ]
  },
  {
   "cell_type": "markdown",
   "id": "a98ceca6-9ec6-45de-814f-f0f540e8d66e",
   "metadata": {},
   "source": [
    "### 8) What is the purpose continuing statement in python?\n",
    "* The continue keyword is used to end the current iteration in a loop, and continues to the next iteration. It is mainly used for a condition so that we can skip some code for a particular condition."
   ]
  },
  {
   "cell_type": "markdown",
   "id": "c22b1977-1f1d-4e87-ba5f-56859f87073e",
   "metadata": {},
   "source": [
    "### 9) Write python program that swap two number with temp variable and without temp variable."
   ]
  },
  {
   "cell_type": "code",
   "execution_count": 40,
   "id": "d1664c1d-7484-4cc4-94c8-ae7cbfa860f3",
   "metadata": {},
   "outputs": [
    {
     "name": "stdin",
     "output_type": "stream",
     "text": [
      "Enter num x:  3\n",
      "Enter num y:  4\n"
     ]
    },
    {
     "name": "stdout",
     "output_type": "stream",
     "text": [
      "num x is: 4\n",
      "num y is: 3\n"
     ]
    }
   ],
   "source": [
    "## using temp \n",
    "\n",
    "x = int(input(\"Enter num x:\"))\n",
    "y = int(input(\"Enter num y:\"))\n",
    "\n",
    "temp = x\n",
    "x = y\n",
    "y = temp\n",
    "\n",
    "print(\"num x is:\", x)\n",
    "print(\"num y is:\", y)"
   ]
  },
  {
   "cell_type": "code",
   "execution_count": 42,
   "id": "3101abf5-4064-4d40-8dea-4b72338cf25f",
   "metadata": {},
   "outputs": [
    {
     "name": "stdin",
     "output_type": "stream",
     "text": [
      "Enter num x:  3\n",
      "Enter num y:  4\n"
     ]
    },
    {
     "name": "stdout",
     "output_type": "stream",
     "text": [
      "num x is: 4\n",
      "num y is: 3\n"
     ]
    }
   ],
   "source": [
    "## without using temp \n",
    "\n",
    "x = int(input(\"Enter num x:\"))\n",
    "y = int(input(\"Enter num y:\"))\n",
    "\n",
    "x, y = y, x\n",
    "\n",
    "print(\"num x is:\", x)\n",
    "print(\"num y is:\", y)"
   ]
  },
  {
   "cell_type": "markdown",
   "id": "fa7e0b8f-cbd8-48a7-be6e-82d2faa1d4b0",
   "metadata": {},
   "source": [
    "### 10) Write a Python program to find whether a given number is even or odd, print out an appropriate message to the user."
   ]
  },
  {
   "cell_type": "code",
   "execution_count": 51,
   "id": "d5354703-d1a5-41b2-9237-fbd10b80dac1",
   "metadata": {},
   "outputs": [
    {
     "name": "stdin",
     "output_type": "stream",
     "text": [
      "Enter a number: 5\n"
     ]
    },
    {
     "name": "stdout",
     "output_type": "stream",
     "text": [
      "Number is odd\n"
     ]
    }
   ],
   "source": [
    "x = int(input(\"Enter a number:\"))\n",
    "\n",
    "if (x % 2 == 0):\n",
    "    print(\"Number is even\")\n",
    "else:\n",
    "    print(\"Number is odd\")"
   ]
  },
  {
   "cell_type": "markdown",
   "id": "e6b4ee90-37c4-4808-b7af-6d80a2977e55",
   "metadata": {},
   "source": [
    "### 11) Write a Python program to test whether a passed letter is a vowel or not."
   ]
  },
  {
   "cell_type": "code",
   "execution_count": 58,
   "id": "ac6e63f5-c3ca-41fd-9d2d-a585a149fefe",
   "metadata": {},
   "outputs": [
    {
     "name": "stdin",
     "output_type": "stream",
     "text": [
      "Write a letter: a\n"
     ]
    },
    {
     "name": "stdout",
     "output_type": "stream",
     "text": [
      "Letter is a vowel\n"
     ]
    }
   ],
   "source": [
    "x = str(input(\"Write a letter:\"))\n",
    "\n",
    "if (x == \"a\"):\n",
    "    print(\"Letter is a vowel\")\n",
    "elif (x == \"e\"):\n",
    "    print(\"Letter is a vowel\")\n",
    "elif (x == \"i\"):\n",
    "    print(\"Letter is a vowel\")\n",
    "elif (x == \"o\"):\n",
    "    print(\"Letter is a vowel\")\n",
    "elif (x == \"u\"):\n",
    "    print(\"Letter is a vowel\")\n",
    "else:\n",
    "    print(\"Letter is not a vowel\")"
   ]
  },
  {
   "cell_type": "markdown",
   "id": "cabad064-2972-4516-a4e4-a79e93c00064",
   "metadata": {},
   "source": [
    "### 12) Write a Python program to sum of three given integers. However, if two values are equal sum will be zero."
   ]
  },
  {
   "cell_type": "code",
   "execution_count": 71,
   "id": "9cf6efcd-cd06-4fdf-b0f2-5441c3d4f8d7",
   "metadata": {},
   "outputs": [
    {
     "name": "stdin",
     "output_type": "stream",
     "text": [
      "Enter number a: 1\n",
      "Enter number b: 3\n",
      "Enter number c: 4\n"
     ]
    },
    {
     "name": "stdout",
     "output_type": "stream",
     "text": [
      "Sum is: 8\n"
     ]
    }
   ],
   "source": [
    "a = int(input(\"Enter number a:\"))\n",
    "b = int(input(\"Enter number b:\"))\n",
    "c = int(input(\"Enter number c:\"))\n",
    "\n",
    "if (a != b and b != c and c != a):\n",
    "    print(\"Sum is:\", a + b + c)\n",
    "else:\n",
    "    print(\"0\")"
   ]
  },
  {
   "cell_type": "markdown",
   "id": "f3d28b5d-0e47-4954-9cff-255e3b1edc0a",
   "metadata": {},
   "source": [
    "### 13) Write a Python program that will return true if the two given integer values are equal or their sum or difference is 5."
   ]
  },
  {
   "cell_type": "code",
   "execution_count": 80,
   "id": "937690a1-546c-4e7a-897b-df726f527911",
   "metadata": {},
   "outputs": [
    {
     "name": "stdin",
     "output_type": "stream",
     "text": [
      "Enter number x: 4\n",
      "Enter number y: 5\n"
     ]
    },
    {
     "name": "stdout",
     "output_type": "stream",
     "text": [
      "False\n"
     ]
    }
   ],
   "source": [
    "x = int(input(\"Enter number x:\"))\n",
    "y = int(input(\"Enter number y:\"))\n",
    "\n",
    "if (x == y):\n",
    "    print(\"True\")\n",
    "elif (x + y == 5):\n",
    "    print(\"True\")\n",
    "elif (x - y == 5):\n",
    "    print(\"True\")\n",
    "else:\n",
    "    print(\"False\")"
   ]
  },
  {
   "cell_type": "code",
   "execution_count": null,
   "id": "ebed689d-0a1f-4c61-b733-b5f6fd5163b4",
   "metadata": {},
   "outputs": [],
   "source": []
  }
 ],
 "metadata": {
  "kernelspec": {
   "display_name": "Python 3 (ipykernel)",
   "language": "python",
   "name": "python3"
  },
  "language_info": {
   "codemirror_mode": {
    "name": "ipython",
    "version": 3
   },
   "file_extension": ".py",
   "mimetype": "text/x-python",
   "name": "python",
   "nbconvert_exporter": "python",
   "pygments_lexer": "ipython3",
   "version": "3.12.4"
  }
 },
 "nbformat": 4,
 "nbformat_minor": 5
}
